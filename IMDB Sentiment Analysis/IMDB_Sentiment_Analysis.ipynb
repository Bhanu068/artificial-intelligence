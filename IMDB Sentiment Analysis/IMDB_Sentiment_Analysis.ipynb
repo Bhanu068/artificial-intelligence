{
  "nbformat": 4,
  "nbformat_minor": 0,
  "metadata": {
    "colab": {
      "name": "IMDB Sentiment Analysis",
      "provenance": [],
      "collapsed_sections": []
    },
    "kernelspec": {
      "name": "python3",
      "display_name": "Python 3"
    },
    "accelerator": "GPU"
  },
  "cells": [
    {
      "cell_type": "code",
      "metadata": {
        "id": "BPDfl2A7BOG9"
      },
      "source": [
        "import pandas as pd\r\n",
        "import numpy as np\r\n",
        "import string\r\n",
        "import nltk\r\n",
        "from nltk.tokenize import RegexpTokenizer\r\n",
        "from nltk.corpus import stopwords\r\n",
        "import tensorflow as tf\r\n",
        "from tensorflow import keras\r\n",
        "from keras.preprocessing.text import Tokenizer\r\n",
        "from keras.preprocessing.sequence import pad_sequences"
      ],
      "execution_count": 1,
      "outputs": []
    },
    {
      "cell_type": "code",
      "metadata": {
        "id": "gX8fboHjCaS_"
      },
      "source": [
        "df = pd.read_csv('/content/drive/MyDrive/Colab Datasets/IMDB_Dataset.csv')"
      ],
      "execution_count": 2,
      "outputs": []
    },
    {
      "cell_type": "code",
      "metadata": {
        "colab": {
          "base_uri": "https://localhost:8080/",
          "height": 195
        },
        "id": "uH1-KgTOC6bw",
        "outputId": "617f5f35-e9b1-40d3-9798-2ff8c775c7c3"
      },
      "source": [
        "df.head()"
      ],
      "execution_count": 3,
      "outputs": [
        {
          "output_type": "execute_result",
          "data": {
            "text/html": [
              "<div>\n",
              "<style scoped>\n",
              "    .dataframe tbody tr th:only-of-type {\n",
              "        vertical-align: middle;\n",
              "    }\n",
              "\n",
              "    .dataframe tbody tr th {\n",
              "        vertical-align: top;\n",
              "    }\n",
              "\n",
              "    .dataframe thead th {\n",
              "        text-align: right;\n",
              "    }\n",
              "</style>\n",
              "<table border=\"1\" class=\"dataframe\">\n",
              "  <thead>\n",
              "    <tr style=\"text-align: right;\">\n",
              "      <th></th>\n",
              "      <th>review</th>\n",
              "      <th>sentiment</th>\n",
              "    </tr>\n",
              "  </thead>\n",
              "  <tbody>\n",
              "    <tr>\n",
              "      <th>0</th>\n",
              "      <td>One of the other reviewers has mentioned that ...</td>\n",
              "      <td>positive</td>\n",
              "    </tr>\n",
              "    <tr>\n",
              "      <th>1</th>\n",
              "      <td>A wonderful little production. &lt;br /&gt;&lt;br /&gt;The...</td>\n",
              "      <td>positive</td>\n",
              "    </tr>\n",
              "    <tr>\n",
              "      <th>2</th>\n",
              "      <td>I thought this was a wonderful way to spend ti...</td>\n",
              "      <td>positive</td>\n",
              "    </tr>\n",
              "    <tr>\n",
              "      <th>3</th>\n",
              "      <td>Basically there's a family where a little boy ...</td>\n",
              "      <td>negative</td>\n",
              "    </tr>\n",
              "    <tr>\n",
              "      <th>4</th>\n",
              "      <td>Petter Mattei's \"Love in the Time of Money\" is...</td>\n",
              "      <td>positive</td>\n",
              "    </tr>\n",
              "  </tbody>\n",
              "</table>\n",
              "</div>"
            ],
            "text/plain": [
              "                                              review sentiment\n",
              "0  One of the other reviewers has mentioned that ...  positive\n",
              "1  A wonderful little production. <br /><br />The...  positive\n",
              "2  I thought this was a wonderful way to spend ti...  positive\n",
              "3  Basically there's a family where a little boy ...  negative\n",
              "4  Petter Mattei's \"Love in the Time of Money\" is...  positive"
            ]
          },
          "metadata": {
            "tags": []
          },
          "execution_count": 3
        }
      ]
    },
    {
      "cell_type": "code",
      "metadata": {
        "colab": {
          "base_uri": "https://localhost:8080/"
        },
        "id": "WQTvFtxhC-wi",
        "outputId": "9a22126f-23f7-4f76-9a45-418098f4e6a0"
      },
      "source": [
        "df.info()"
      ],
      "execution_count": 4,
      "outputs": [
        {
          "output_type": "stream",
          "text": [
            "<class 'pandas.core.frame.DataFrame'>\n",
            "RangeIndex: 50000 entries, 0 to 49999\n",
            "Data columns (total 2 columns):\n",
            " #   Column     Non-Null Count  Dtype \n",
            "---  ------     --------------  ----- \n",
            " 0   review     50000 non-null  object\n",
            " 1   sentiment  50000 non-null  object\n",
            "dtypes: object(2)\n",
            "memory usage: 781.4+ KB\n"
          ],
          "name": "stdout"
        }
      ]
    },
    {
      "cell_type": "code",
      "metadata": {
        "id": "LCbqpZEWH3jp"
      },
      "source": [
        "tokenize = Tokenizer()\r\n",
        "tokenize.fit_on_texts(df['review'])\r\n",
        "X_seq = tokenize.texts_to_sequences(df['review'])\r\n",
        "X_pad = pad_sequences(X_seq, maxlen = 500)"
      ],
      "execution_count": 5,
      "outputs": []
    },
    {
      "cell_type": "code",
      "metadata": {
        "id": "2qF7Y3N5IPfS"
      },
      "source": [
        "vocab_size = len(tokenize.word_index) + 1"
      ],
      "execution_count": 6,
      "outputs": []
    },
    {
      "cell_type": "code",
      "metadata": {
        "id": "B0wKvlB-IWc0"
      },
      "source": [
        "tokenize2 = Tokenizer()\r\n",
        "tokenize2.fit_on_texts(df['sentiment'])\r\n",
        "Y_seq = tokenize2.texts_to_sequences(df['sentiment'])\r\n",
        "Y_pad = pad_sequences(Y_seq, maxlen = 1)"
      ],
      "execution_count": 7,
      "outputs": []
    },
    {
      "cell_type": "code",
      "metadata": {
        "id": "xNhEIMNCKajt"
      },
      "source": [
        "Y = df['sentiment'].replace({'positive' : 1, 'negative': 0})"
      ],
      "execution_count": 8,
      "outputs": []
    },
    {
      "cell_type": "code",
      "metadata": {
        "colab": {
          "base_uri": "https://localhost:8080/"
        },
        "id": "3SyugnuPJDaR",
        "outputId": "a5beedbd-bb2c-4e9c-b992-75e8d6d5e9c9"
      },
      "source": [
        "model_lstm = keras.models.Sequential([\r\n",
        "        keras.layers.Embedding(vocab_size, 40, input_length = 500),\r\n",
        "        keras.layers.Dropout(0.5),\r\n",
        "        keras.layers.LSTM(100),\r\n",
        "        keras.layers.Dropout(0.2),\r\n",
        "        keras.layers.Dense(1, activation = 'sigmoid')\r\n",
        "])\r\n",
        "\r\n",
        "model_lstm.compile(optimizer = 'adam', loss = 'binary_crossentropy', metrics = ['accuracy'])\r\n",
        "model_lstm.summary()"
      ],
      "execution_count": 10,
      "outputs": [
        {
          "output_type": "stream",
          "text": [
            "Model: \"sequential\"\n",
            "_________________________________________________________________\n",
            "Layer (type)                 Output Shape              Param #   \n",
            "=================================================================\n",
            "embedding (Embedding)        (None, 500, 40)           4970120   \n",
            "_________________________________________________________________\n",
            "dropout (Dropout)            (None, 500, 40)           0         \n",
            "_________________________________________________________________\n",
            "lstm (LSTM)                  (None, 100)               56400     \n",
            "_________________________________________________________________\n",
            "dropout_1 (Dropout)          (None, 100)               0         \n",
            "_________________________________________________________________\n",
            "dense (Dense)                (None, 1)                 101       \n",
            "=================================================================\n",
            "Total params: 5,026,621\n",
            "Trainable params: 5,026,621\n",
            "Non-trainable params: 0\n",
            "_________________________________________________________________\n"
          ],
          "name": "stdout"
        }
      ]
    },
    {
      "cell_type": "code",
      "metadata": {
        "colab": {
          "base_uri": "https://localhost:8080/"
        },
        "id": "tTcYYUo4DV6v",
        "outputId": "bb71b6d9-f546-47be-ab58-8489f5758f7d"
      },
      "source": [
        "model_lstm.fit(X_pad, Y, validation_split = 0.2, batch_size = 16, epochs = 10)"
      ],
      "execution_count": 11,
      "outputs": [
        {
          "output_type": "stream",
          "text": [
            "Epoch 1/10\n",
            "2500/2500 [==============================] - 193s 74ms/step - loss: 0.4981 - accuracy: 0.7520 - val_loss: 0.3611 - val_accuracy: 0.8508\n",
            "Epoch 2/10\n",
            "2500/2500 [==============================] - 185s 74ms/step - loss: 0.2467 - accuracy: 0.9075 - val_loss: 0.3138 - val_accuracy: 0.8765\n",
            "Epoch 3/10\n",
            "2500/2500 [==============================] - 185s 74ms/step - loss: 0.1829 - accuracy: 0.9337 - val_loss: 0.3136 - val_accuracy: 0.8804\n",
            "Epoch 4/10\n",
            "2500/2500 [==============================] - 184s 74ms/step - loss: 0.1230 - accuracy: 0.9598 - val_loss: 0.3310 - val_accuracy: 0.8925\n",
            "Epoch 5/10\n",
            "2500/2500 [==============================] - 183s 73ms/step - loss: 0.0923 - accuracy: 0.9697 - val_loss: 0.3862 - val_accuracy: 0.8629\n",
            "Epoch 6/10\n",
            "2500/2500 [==============================] - 184s 74ms/step - loss: 0.0770 - accuracy: 0.9745 - val_loss: 0.3368 - val_accuracy: 0.8865\n",
            "Epoch 7/10\n",
            "2500/2500 [==============================] - 184s 74ms/step - loss: 0.0510 - accuracy: 0.9845 - val_loss: 0.3941 - val_accuracy: 0.8877\n",
            "Epoch 8/10\n",
            "2500/2500 [==============================] - 184s 74ms/step - loss: 0.0468 - accuracy: 0.9845 - val_loss: 0.4159 - val_accuracy: 0.8910\n",
            "Epoch 9/10\n",
            "2500/2500 [==============================] - 186s 74ms/step - loss: 0.0347 - accuracy: 0.9883 - val_loss: 0.4679 - val_accuracy: 0.8884\n",
            "Epoch 10/10\n",
            "2500/2500 [==============================] - 187s 75ms/step - loss: 0.0296 - accuracy: 0.9908 - val_loss: 0.4518 - val_accuracy: 0.8877\n"
          ],
          "name": "stdout"
        },
        {
          "output_type": "execute_result",
          "data": {
            "text/plain": [
              "<tensorflow.python.keras.callbacks.History at 0x7f4e001c21d0>"
            ]
          },
          "metadata": {
            "tags": []
          },
          "execution_count": 11
        }
      ]
    },
    {
      "cell_type": "code",
      "metadata": {
        "id": "VVpWL-NiLkUU"
      },
      "source": [
        "model_lstm.save(\"movie_sentiment_analysis_lstm.h5\")\r\n",
        "\r\n",
        "with open(\"movie_sentiment_analysis_lstm.json\", \"w\") as json_file:\r\n",
        "  model_json = model_lstm.to_json() \r\n",
        "  json_file.write(model_json) \r\n",
        "\r\n",
        "# Saving weights of the model to a HDF5 file \r\n",
        "model_lstm.save_weights(\"movie_sentiment_analysis_lstm_weights.h5\")"
      ],
      "execution_count": 14,
      "outputs": []
    },
    {
      "cell_type": "code",
      "metadata": {
        "colab": {
          "base_uri": "https://localhost:8080/"
        },
        "id": "_jjVX7XiDcDz",
        "outputId": "d2772fb5-e0aa-424a-ac2e-b9f92c769bf5"
      },
      "source": [
        "model_gru = keras.models.Sequential([\r\n",
        "        keras.layers.Embedding(vocab_size, 40, input_length = 500),\r\n",
        "        keras.layers.Dropout(0.5),\r\n",
        "        keras.layers.GRU(100),\r\n",
        "        keras.layers.Dropout(0.2),\r\n",
        "        keras.layers.Dense(1, activation = 'sigmoid')\r\n",
        "])\r\n",
        "\r\n",
        "model_gru.compile(optimizer = 'adam', loss = 'binary_crossentropy', metrics = ['accuracy'])\r\n",
        "model_gru.summary()"
      ],
      "execution_count": 15,
      "outputs": [
        {
          "output_type": "stream",
          "text": [
            "Model: \"sequential_2\"\n",
            "_________________________________________________________________\n",
            "Layer (type)                 Output Shape              Param #   \n",
            "=================================================================\n",
            "embedding_2 (Embedding)      (None, 500, 40)           4970120   \n",
            "_________________________________________________________________\n",
            "dropout_4 (Dropout)          (None, 500, 40)           0         \n",
            "_________________________________________________________________\n",
            "gru_1 (GRU)                  (None, 100)               42600     \n",
            "_________________________________________________________________\n",
            "dropout_5 (Dropout)          (None, 100)               0         \n",
            "_________________________________________________________________\n",
            "dense_2 (Dense)              (None, 1)                 101       \n",
            "=================================================================\n",
            "Total params: 5,012,821\n",
            "Trainable params: 5,012,821\n",
            "Non-trainable params: 0\n",
            "_________________________________________________________________\n"
          ],
          "name": "stdout"
        }
      ]
    },
    {
      "cell_type": "code",
      "metadata": {
        "colab": {
          "base_uri": "https://localhost:8080/"
        },
        "id": "jsZWQnw4DcyC",
        "outputId": "35810492-3779-41f1-ada9-963e34719d26"
      },
      "source": [
        "model_gru.fit(X_pad, Y, validation_split = 0.2, batch_size = 16, epochs = 5)"
      ],
      "execution_count": 16,
      "outputs": [
        {
          "output_type": "stream",
          "text": [
            "Epoch 1/5\n",
            "2500/2500 [==============================] - 179s 71ms/step - loss: 0.5039 - accuracy: 0.7287 - val_loss: 0.2484 - val_accuracy: 0.8979\n",
            "Epoch 2/5\n",
            "2500/2500 [==============================] - 175s 70ms/step - loss: 0.1844 - accuracy: 0.9307 - val_loss: 0.2522 - val_accuracy: 0.9085\n",
            "Epoch 3/5\n",
            "2500/2500 [==============================] - 173s 69ms/step - loss: 0.1032 - accuracy: 0.9648 - val_loss: 0.2358 - val_accuracy: 0.9084\n",
            "Epoch 4/5\n",
            "2500/2500 [==============================] - 176s 70ms/step - loss: 0.0644 - accuracy: 0.9783 - val_loss: 0.2945 - val_accuracy: 0.9067\n",
            "Epoch 5/5\n",
            "2500/2500 [==============================] - 176s 70ms/step - loss: 0.0434 - accuracy: 0.9856 - val_loss: 0.3470 - val_accuracy: 0.9027\n"
          ],
          "name": "stdout"
        },
        {
          "output_type": "execute_result",
          "data": {
            "text/plain": [
              "<tensorflow.python.keras.callbacks.History at 0x7f4d91f3b550>"
            ]
          },
          "metadata": {
            "tags": []
          },
          "execution_count": 16
        }
      ]
    },
    {
      "cell_type": "code",
      "metadata": {
        "id": "YmSlxXOZMxPX"
      },
      "source": [
        "model_gru.save(\"movie_sentiment_analysis_gru.h5\")\r\n",
        "\r\n",
        "with open(\"movie_sentiment_analysis_gru.json\", \"w\") as json_file:\r\n",
        "  model_gru_json = model_gru.to_json() \r\n",
        "  json_file.write(model_gru_json) \r\n",
        "\r\n",
        "# Saving weights of the model to a HDF5 file \r\n",
        "model_gru.save_weights(\"movie_sentiment_analysis_gru_weights.h5\")"
      ],
      "execution_count": 17,
      "outputs": []
    },
    {
      "cell_type": "code",
      "metadata": {
        "colab": {
          "base_uri": "https://localhost:8080/"
        },
        "id": "5ON6lQEaDlZI",
        "outputId": "df298531-6d86-410e-a579-cea7598f54bb"
      },
      "source": [
        "model_bilstm = keras.models.Sequential([\r\n",
        "        keras.layers.Embedding(vocab_size, 40, input_length = 500),\r\n",
        "        keras.layers.Dropout(0.5),\r\n",
        "        keras.layers.Bidirectional(keras.layers.LSTM(100, return_sequences = True)),\r\n",
        "        keras.layers.Bidirectional(keras.layers.LSTM(100)),\r\n",
        "        keras.layers.Dropout(0.2),\r\n",
        "        keras.layers.Dense(1, activation = 'sigmoid')\r\n",
        "])\r\n",
        "\r\n",
        "model_bilstm.compile(optimizer = 'adam', loss = 'binary_crossentropy', metrics = ['accuracy'])\r\n",
        "model_bilstm.summary()"
      ],
      "execution_count": 19,
      "outputs": [
        {
          "output_type": "stream",
          "text": [
            "Model: \"sequential_3\"\n",
            "_________________________________________________________________\n",
            "Layer (type)                 Output Shape              Param #   \n",
            "=================================================================\n",
            "embedding_4 (Embedding)      (None, 500, 40)           4970120   \n",
            "_________________________________________________________________\n",
            "dropout_7 (Dropout)          (None, 500, 40)           0         \n",
            "_________________________________________________________________\n",
            "bidirectional (Bidirectional (None, 500, 200)          112800    \n",
            "_________________________________________________________________\n",
            "bidirectional_1 (Bidirection (None, 200)               240800    \n",
            "_________________________________________________________________\n",
            "dropout_8 (Dropout)          (None, 200)               0         \n",
            "_________________________________________________________________\n",
            "dense_3 (Dense)              (None, 1)                 201       \n",
            "=================================================================\n",
            "Total params: 5,323,921\n",
            "Trainable params: 5,323,921\n",
            "Non-trainable params: 0\n",
            "_________________________________________________________________\n"
          ],
          "name": "stdout"
        }
      ]
    },
    {
      "cell_type": "code",
      "metadata": {
        "colab": {
          "base_uri": "https://localhost:8080/"
        },
        "id": "yVGZZVOGDl1m",
        "outputId": "350ca66f-e2ff-4bf2-b721-e4c9e56f3000"
      },
      "source": [
        "model_bilstm.fit(X_pad, Y, validation_split = 0.2, batch_size = 16, epochs = 5)"
      ],
      "execution_count": 20,
      "outputs": [
        {
          "output_type": "stream",
          "text": [
            "Epoch 1/5\n",
            "2500/2500 [==============================] - 398s 157ms/step - loss: 0.5488 - accuracy: 0.7017 - val_loss: 0.3518 - val_accuracy: 0.8507\n",
            "Epoch 2/5\n",
            "2500/2500 [==============================] - 394s 158ms/step - loss: 0.2571 - accuracy: 0.8992 - val_loss: 0.3835 - val_accuracy: 0.8522\n",
            "Epoch 3/5\n",
            "2500/2500 [==============================] - 393s 157ms/step - loss: 0.1609 - accuracy: 0.9410 - val_loss: 0.2411 - val_accuracy: 0.9036\n",
            "Epoch 4/5\n",
            "2500/2500 [==============================] - 395s 158ms/step - loss: 0.1037 - accuracy: 0.9646 - val_loss: 0.2750 - val_accuracy: 0.8983\n",
            "Epoch 5/5\n",
            "2500/2500 [==============================] - 396s 159ms/step - loss: 0.0705 - accuracy: 0.9759 - val_loss: 0.2912 - val_accuracy: 0.9023\n"
          ],
          "name": "stdout"
        },
        {
          "output_type": "execute_result",
          "data": {
            "text/plain": [
              "<tensorflow.python.keras.callbacks.History at 0x7f4d8ef637b8>"
            ]
          },
          "metadata": {
            "tags": []
          },
          "execution_count": 20
        }
      ]
    },
    {
      "cell_type": "code",
      "metadata": {
        "id": "DBqVdtTANGQE"
      },
      "source": [
        "model_bilstm.save(\"movie_sentiment_analysis_bilstm.h5\")\r\n",
        "\r\n",
        "with open(\"movie_sentiment_analysis_bilstm.json\", \"w\") as json_file:\r\n",
        "  model_gru_json = model_bilstm.to_json() \r\n",
        "  json_file.write(model_gru_json) \r\n",
        "\r\n",
        "# Saving weights of the model to a HDF5 file \r\n",
        "model_bilstm.save_weights(\"movie_sentiment_analysis_bilstm_weights.h5\")"
      ],
      "execution_count": 21,
      "outputs": []
    },
    {
      "cell_type": "code",
      "metadata": {
        "colab": {
          "base_uri": "https://localhost:8080/"
        },
        "id": "5vJF1v9LJvL2",
        "outputId": "d965152f-db86-4ea8-d31d-302597e83697"
      },
      "source": [
        "# Without dropout\r\n",
        "model.fit(X_pad, Y, validation_split = 0.2, batch_size = 16, epochs = 10)"
      ],
      "execution_count": null,
      "outputs": [
        {
          "output_type": "stream",
          "text": [
            "Epoch 1/10\n",
            "2500/2500 [==============================] - 176s 70ms/step - loss: 0.5324 - accuracy: 0.7258 - val_loss: 0.4065 - val_accuracy: 0.8321\n",
            "Epoch 2/10\n",
            "2500/2500 [==============================] - 173s 69ms/step - loss: 0.3257 - accuracy: 0.8685 - val_loss: 0.2753 - val_accuracy: 0.8861\n",
            "Epoch 3/10\n",
            "2500/2500 [==============================] - 173s 69ms/step - loss: 0.1426 - accuracy: 0.9504 - val_loss: 0.2621 - val_accuracy: 0.9002\n",
            "Epoch 4/10\n",
            "2500/2500 [==============================] - 172s 69ms/step - loss: 0.0797 - accuracy: 0.9739 - val_loss: 0.3029 - val_accuracy: 0.8999\n",
            "Epoch 5/10\n",
            "2500/2500 [==============================] - 172s 69ms/step - loss: 0.0457 - accuracy: 0.9860 - val_loss: 0.3759 - val_accuracy: 0.8929\n",
            "Epoch 6/10\n",
            "2500/2500 [==============================] - 172s 69ms/step - loss: 0.0236 - accuracy: 0.9937 - val_loss: 0.5010 - val_accuracy: 0.8904\n",
            "Epoch 7/10\n",
            "2500/2500 [==============================] - 171s 68ms/step - loss: 0.0135 - accuracy: 0.9965 - val_loss: 0.5064 - val_accuracy: 0.8919\n",
            "Epoch 8/10\n",
            "2500/2500 [==============================] - 172s 69ms/step - loss: 0.0047 - accuracy: 0.9989 - val_loss: 0.5082 - val_accuracy: 0.8924\n",
            "Epoch 9/10\n",
            "2500/2500 [==============================] - 172s 69ms/step - loss: 0.0058 - accuracy: 0.9988 - val_loss: 0.5937 - val_accuracy: 0.8880\n",
            "Epoch 10/10\n",
            "2500/2500 [==============================] - 172s 69ms/step - loss: 0.0030 - accuracy: 0.9991 - val_loss: 0.6585 - val_accuracy: 0.8863\n"
          ],
          "name": "stdout"
        },
        {
          "output_type": "execute_result",
          "data": {
            "text/plain": [
              "<tensorflow.python.keras.callbacks.History at 0x7f69b5436518>"
            ]
          },
          "metadata": {
            "tags": []
          },
          "execution_count": 29
        }
      ]
    }
  ]
}