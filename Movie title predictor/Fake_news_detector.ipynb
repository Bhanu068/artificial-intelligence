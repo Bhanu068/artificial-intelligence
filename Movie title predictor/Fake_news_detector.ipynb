{
  "nbformat": 4,
  "nbformat_minor": 0,
  "metadata": {
    "colab": {
      "name": "Fake news detector",
      "provenance": [],
      "collapsed_sections": []
    },
    "kernelspec": {
      "name": "python3",
      "display_name": "Python 3"
    },
    "accelerator": "GPU"
  },
  "cells": [
    {
      "cell_type": "code",
      "metadata": {
        "id": "4HUQOudUDAYZ"
      },
      "source": [
        "import pandas as pd\r\n",
        "import numpy as np\r\n",
        "import matplotlib.pyplot as plt\r\n",
        "import seaborn as sns\r\n",
        "import nltk, pickle\r\n",
        "import tensorflow as tf\r\n",
        "from tensorflow import keras\r\n",
        "from keras.preprocessing.text import Tokenizer\r\n",
        "from keras.preprocessing.sequence import pad_sequences\r\n",
        "from keras.models import load_model "
      ],
      "execution_count": 17,
      "outputs": []
    },
    {
      "cell_type": "code",
      "metadata": {
        "id": "yVEAYPtBSU2s"
      },
      "source": [
        "train_df = pd.read_csv('/content/drive/MyDrive/Colab Datasets/fake-news/train.csv')"
      ],
      "execution_count": 2,
      "outputs": []
    },
    {
      "cell_type": "code",
      "metadata": {
        "id": "eOlK491_tqw6",
        "colab": {
          "base_uri": "https://localhost:8080/",
          "height": 195
        },
        "outputId": "df8fedd7-5061-472a-f5b1-3bdcb242b148"
      },
      "source": [
        "train_df.head()"
      ],
      "execution_count": 3,
      "outputs": [
        {
          "output_type": "execute_result",
          "data": {
            "text/html": [
              "<div>\n",
              "<style scoped>\n",
              "    .dataframe tbody tr th:only-of-type {\n",
              "        vertical-align: middle;\n",
              "    }\n",
              "\n",
              "    .dataframe tbody tr th {\n",
              "        vertical-align: top;\n",
              "    }\n",
              "\n",
              "    .dataframe thead th {\n",
              "        text-align: right;\n",
              "    }\n",
              "</style>\n",
              "<table border=\"1\" class=\"dataframe\">\n",
              "  <thead>\n",
              "    <tr style=\"text-align: right;\">\n",
              "      <th></th>\n",
              "      <th>id</th>\n",
              "      <th>title</th>\n",
              "      <th>author</th>\n",
              "      <th>text</th>\n",
              "      <th>label</th>\n",
              "    </tr>\n",
              "  </thead>\n",
              "  <tbody>\n",
              "    <tr>\n",
              "      <th>0</th>\n",
              "      <td>0</td>\n",
              "      <td>House Dem Aide: We Didn’t Even See Comey’s Let...</td>\n",
              "      <td>Darrell Lucus</td>\n",
              "      <td>House Dem Aide: We Didn’t Even See Comey’s Let...</td>\n",
              "      <td>1</td>\n",
              "    </tr>\n",
              "    <tr>\n",
              "      <th>1</th>\n",
              "      <td>1</td>\n",
              "      <td>FLYNN: Hillary Clinton, Big Woman on Campus - ...</td>\n",
              "      <td>Daniel J. Flynn</td>\n",
              "      <td>Ever get the feeling your life circles the rou...</td>\n",
              "      <td>0</td>\n",
              "    </tr>\n",
              "    <tr>\n",
              "      <th>2</th>\n",
              "      <td>2</td>\n",
              "      <td>Why the Truth Might Get You Fired</td>\n",
              "      <td>Consortiumnews.com</td>\n",
              "      <td>Why the Truth Might Get You Fired October 29, ...</td>\n",
              "      <td>1</td>\n",
              "    </tr>\n",
              "    <tr>\n",
              "      <th>3</th>\n",
              "      <td>3</td>\n",
              "      <td>15 Civilians Killed In Single US Airstrike Hav...</td>\n",
              "      <td>Jessica Purkiss</td>\n",
              "      <td>Videos 15 Civilians Killed In Single US Airstr...</td>\n",
              "      <td>1</td>\n",
              "    </tr>\n",
              "    <tr>\n",
              "      <th>4</th>\n",
              "      <td>4</td>\n",
              "      <td>Iranian woman jailed for fictional unpublished...</td>\n",
              "      <td>Howard Portnoy</td>\n",
              "      <td>Print \\nAn Iranian woman has been sentenced to...</td>\n",
              "      <td>1</td>\n",
              "    </tr>\n",
              "  </tbody>\n",
              "</table>\n",
              "</div>"
            ],
            "text/plain": [
              "   id  ... label\n",
              "0   0  ...     1\n",
              "1   1  ...     0\n",
              "2   2  ...     1\n",
              "3   3  ...     1\n",
              "4   4  ...     1\n",
              "\n",
              "[5 rows x 5 columns]"
            ]
          },
          "metadata": {
            "tags": []
          },
          "execution_count": 3
        }
      ]
    },
    {
      "cell_type": "code",
      "metadata": {
        "colab": {
          "base_uri": "https://localhost:8080/",
          "height": 296
        },
        "id": "W1w4I2OPZszI",
        "outputId": "2c39e44d-5ac5-4265-e036-b00b85f3cbfe"
      },
      "source": [
        "sns.countplot(data = train_df, x = train_df['label'])"
      ],
      "execution_count": 4,
      "outputs": [
        {
          "output_type": "execute_result",
          "data": {
            "text/plain": [
              "<matplotlib.axes._subplots.AxesSubplot at 0x7f4ca9e376a0>"
            ]
          },
          "metadata": {
            "tags": []
          },
          "execution_count": 4
        },
        {
          "output_type": "display_data",
          "data": {
            "image/png": "[encoded data removed]",
            "text/plain": [
              "<Figure size 432x288 with 1 Axes>"
            ]
          },
          "metadata": {
            "tags": [],
            "needs_background": "light"
          }
        }
      ]
    },
    {
      "cell_type": "code",
      "metadata": {
        "id": "z8JQlvcvZ8Vh"
      },
      "source": [
        "train_df.dropna(inplace = True)"
      ],
      "execution_count": 5,
      "outputs": []
    },
    {
      "cell_type": "code",
      "metadata": {
        "id": "L0bYeXt8aWls"
      },
      "source": [
        "tokenizer = Tokenizer()\r\n",
        "tokenizer.fit_on_texts(train_df['text'])\r\n",
        "X_seq = tokenizer.texts_to_sequences(train_df['text'])\r\n",
        "X_pad = pad_sequences(X_seq, maxlen = 500)"
      ],
      "execution_count": 6,
      "outputs": []
    },
    {
      "cell_type": "code",
      "metadata": {
        "id": "4aQVWNnjajew"
      },
      "source": [
        "vocab_size = len(tokenizer.word_index) + 1"
      ],
      "execution_count": 7,
      "outputs": []
    },
    {
      "cell_type": "code",
      "metadata": {
        "id": "6-6-Z9DTLnd4"
      },
      "source": [
        "Y = train_df['label']"
      ],
      "execution_count": 8,
      "outputs": []
    },
    {
      "cell_type": "code",
      "metadata": {
        "colab": {
          "base_uri": "https://localhost:8080/"
        },
        "id": "7Uj4mQCPbvij",
        "outputId": "c5e1685c-56a8-42a4-b242-d36801c05623"
      },
      "source": [
        "model_lstm = keras.models.Sequential([\r\n",
        "        keras.layers.Embedding(vocab_size, 40, input_length = 500),\r\n",
        "        tf.compat.v1.keras.layers.CuDNNLSTM(100),\r\n",
        "        keras.layers.Dropout(0.2),\r\n",
        "        keras.layers.Dense(1, activation = 'sigmoid')\r\n",
        "])\r\n",
        "\r\n",
        "model_lstm.compile(optimizer = 'adam', loss = 'binary_crossentropy', metrics = ['accuracy'])\r\n",
        "model_lstm.summary()"
      ],
      "execution_count": 12,
      "outputs": [
        {
          "output_type": "stream",
          "text": [
            "Model: \"sequential_1\"\n",
            "_________________________________________________________________\n",
            "Layer (type)                 Output Shape              Param #   \n",
            "=================================================================\n",
            "embedding_2 (Embedding)      (None, 500, 40)           8566800   \n",
            "_________________________________________________________________\n",
            "cu_dnnlstm (CuDNNLSTM)       (None, 100)               56800     \n",
            "_________________________________________________________________\n",
            "dropout_1 (Dropout)          (None, 100)               0         \n",
            "_________________________________________________________________\n",
            "dense_1 (Dense)              (None, 1)                 101       \n",
            "=================================================================\n",
            "Total params: 8,623,701\n",
            "Trainable params: 8,623,701\n",
            "Non-trainable params: 0\n",
            "_________________________________________________________________\n"
          ],
          "name": "stdout"
        }
      ]
    },
    {
      "cell_type": "code",
      "metadata": {
        "colab": {
          "base_uri": "https://localhost:8080/"
        },
        "id": "bMhia9-ZEAQB",
        "outputId": "4f490b18-9da3-4b10-a42d-f57fe921c2d9"
      },
      "source": [
        "model_lstm.fit(X_pad, Y, validation_split = 0.2, batch_size = 16, epochs = 5)"
      ],
      "execution_count": 13,
      "outputs": [
        {
          "output_type": "stream",
          "text": [
            "Epoch 1/5\n",
            "915/915 [==============================] - 104s 110ms/step - loss: 0.4260 - accuracy: 0.7992 - val_loss: 0.2209 - val_accuracy: 0.9133\n",
            "Epoch 2/5\n",
            "915/915 [==============================] - 95s 104ms/step - loss: 0.1412 - accuracy: 0.9504 - val_loss: 0.2805 - val_accuracy: 0.8800\n",
            "Epoch 3/5\n",
            "915/915 [==============================] - 95s 104ms/step - loss: 0.1126 - accuracy: 0.9635 - val_loss: 0.3048 - val_accuracy: 0.8805\n",
            "Epoch 4/5\n",
            "915/915 [==============================] - 95s 104ms/step - loss: 0.1247 - accuracy: 0.9538 - val_loss: 0.2182 - val_accuracy: 0.9396\n",
            "Epoch 5/5\n",
            "915/915 [==============================] - 95s 103ms/step - loss: 0.0243 - accuracy: 0.9931 - val_loss: 0.2559 - val_accuracy: 0.9240\n"
          ],
          "name": "stdout"
        },
        {
          "output_type": "execute_result",
          "data": {
            "text/plain": [
              "<tensorflow.python.keras.callbacks.History at 0x7f4bff606208>"
            ]
          },
          "metadata": {
            "tags": []
          },
          "execution_count": 13
        }
      ]
    },
    {
      "cell_type": "code",
      "metadata": {
        "id": "B8mYzWmtJMO3"
      },
      "source": [
        "model_lstm.save(\"fake_news_detector_model_lstm.h5\")"
      ],
      "execution_count": 15,
      "outputs": []
    },
    {
      "cell_type": "code",
      "metadata": {
        "id": "luccEt73Jyjg"
      },
      "source": [
        "with open(\"fake_news_detector_model_lstm.json\", \"w\") as json_file:\r\n",
        "  model_json = model_lstm.to_json() \r\n",
        "  json_file.write(model_json) \r\n",
        "  \r\n",
        "# Saving weights of the model to a HDF5 file \r\n",
        "model_lstm.save_weights(\"fake_news_detector_model_lstm_weights.h5\")"
      ],
      "execution_count": 16,
      "outputs": []
    },
    {
      "cell_type": "code",
      "metadata": {
        "colab": {
          "base_uri": "https://localhost:8080/"
        },
        "id": "iZ_SeWoVEAC5",
        "outputId": "99da8038-d7ff-49d2-e55e-6cbe3ccc885e"
      },
      "source": [
        "model_gru = keras.models.Sequential([\r\n",
        "        keras.layers.Embedding(vocab_size, 40, input_length = 500),\r\n",
        "        keras.layers.GRU(100),\r\n",
        "        keras.layers.Dropout(0.2),\r\n",
        "        keras.layers.Dense(1, activation = 'sigmoid')\r\n",
        "])\r\n",
        "\r\n",
        "model_gru.compile(optimizer = 'adam', loss = 'binary_crossentropy', metrics = ['accuracy'])\r\n",
        "model_gru.summary()"
      ],
      "execution_count": 19,
      "outputs": [
        {
          "output_type": "stream",
          "text": [
            "Model: \"sequential_2\"\n",
            "_________________________________________________________________\n",
            "Layer (type)                 Output Shape              Param #   \n",
            "=================================================================\n",
            "embedding_3 (Embedding)      (None, 500, 40)           8566800   \n",
            "_________________________________________________________________\n",
            "gru (GRU)                    (None, 100)               42600     \n",
            "_________________________________________________________________\n",
            "dropout_2 (Dropout)          (None, 100)               0         \n",
            "_________________________________________________________________\n",
            "dense_2 (Dense)              (None, 1)                 101       \n",
            "=================================================================\n",
            "Total params: 8,609,501\n",
            "Trainable params: 8,609,501\n",
            "Non-trainable params: 0\n",
            "_________________________________________________________________\n"
          ],
          "name": "stdout"
        }
      ]
    },
    {
      "cell_type": "code",
      "metadata": {
        "colab": {
          "base_uri": "https://localhost:8080/"
        },
        "id": "6ge5tlyxD_Vz",
        "outputId": "e86005bf-d5f8-44fa-eaae-ae5f8057d2b1"
      },
      "source": [
        "model_gru.fit(X_pad, Y, validation_split = 0.2, batch_size = 16, epochs = 5)"
      ],
      "execution_count": 20,
      "outputs": [
        {
          "output_type": "stream",
          "text": [
            "Epoch 1/5\n",
            "915/915 [==============================] - 96s 103ms/step - loss: 0.5548 - accuracy: 0.7879 - val_loss: 0.2498 - val_accuracy: 0.9037\n",
            "Epoch 2/5\n",
            "915/915 [==============================] - 92s 101ms/step - loss: 0.1334 - accuracy: 0.9570 - val_loss: 0.1429 - val_accuracy: 0.9502\n",
            "Epoch 3/5\n",
            "915/915 [==============================] - 91s 100ms/step - loss: 0.0797 - accuracy: 0.9741 - val_loss: 0.1726 - val_accuracy: 0.9360\n",
            "Epoch 4/5\n",
            "915/915 [==============================] - 92s 100ms/step - loss: 0.3402 - accuracy: 0.8903 - val_loss: 0.1717 - val_accuracy: 0.9349\n",
            "Epoch 5/5\n",
            "915/915 [==============================] - 91s 100ms/step - loss: 0.0587 - accuracy: 0.9830 - val_loss: 0.1594 - val_accuracy: 0.9418\n"
          ],
          "name": "stdout"
        },
        {
          "output_type": "execute_result",
          "data": {
            "text/plain": [
              "<tensorflow.python.keras.callbacks.History at 0x7f4c5da8cef0>"
            ]
          },
          "metadata": {
            "tags": []
          },
          "execution_count": 20
        }
      ]
    },
    {
      "cell_type": "code",
      "metadata": {
        "id": "Ebp7pF4JLFP6"
      },
      "source": [
        "model_gru.save(\"fake_news_detector_model_gru.h5\")"
      ],
      "execution_count": 21,
      "outputs": []
    },
    {
      "cell_type": "code",
      "metadata": {
        "id": "Kc3uNwFDKs-0"
      },
      "source": [
        "with open(\"fake_news_detector_model_gru.json\", \"w\") as json_file:\r\n",
        "  model_gru_json = model_gru.to_json() \r\n",
        "  json_file.write(model_gru_json) "
      ],
      "execution_count": 22,
      "outputs": []
    },
    {
      "cell_type": "code",
      "metadata": {
        "id": "dVcJYM4sK-Y3"
      },
      "source": [
        "# Saving weights of the model to a HDF5 file \r\n",
        "model_gru.save_weights(\"fake_news_detector_model_gru_weights.h5\")"
      ],
      "execution_count": 23,
      "outputs": []
    },
    {
      "cell_type": "code",
      "metadata": {
        "colab": {
          "base_uri": "https://localhost:8080/"
        },
        "id": "_Cl6Yl5SD-YY",
        "outputId": "92830dca-f241-4366-e7c6-f5c160fb92c1"
      },
      "source": [
        "model_bilstm = keras.models.Sequential([\r\n",
        "        keras.layers.Embedding(vocab_size, 40, input_length = 500),\r\n",
        "        keras.layers.Bidirectional(keras.layers.LSTM(100, return_sequences=True)),\r\n",
        "        keras.layers.Bidirectional(keras.layers.LSTM(100)),\r\n",
        "        keras.layers.Dropout(0.2),\r\n",
        "        keras.layers.Dense(1, activation = 'sigmoid')\r\n",
        "])\r\n",
        "\r\n",
        "model_bilstm.compile(optimizer = 'adam', loss = 'binary_crossentropy', metrics = ['accuracy'])\r\n",
        "model_bilstm.summary()"
      ],
      "execution_count": 26,
      "outputs": [
        {
          "output_type": "stream",
          "text": [
            "Model: \"sequential_3\"\n",
            "_________________________________________________________________\n",
            "Layer (type)                 Output Shape              Param #   \n",
            "=================================================================\n",
            "embedding_6 (Embedding)      (None, 500, 40)           8566800   \n",
            "_________________________________________________________________\n",
            "bidirectional (Bidirectional (None, 500, 200)          112800    \n",
            "_________________________________________________________________\n",
            "bidirectional_1 (Bidirection (None, 200)               240800    \n",
            "_________________________________________________________________\n",
            "dropout_3 (Dropout)          (None, 200)               0         \n",
            "_________________________________________________________________\n",
            "dense_3 (Dense)              (None, 1)                 201       \n",
            "=================================================================\n",
            "Total params: 8,920,601\n",
            "Trainable params: 8,920,601\n",
            "Non-trainable params: 0\n",
            "_________________________________________________________________\n"
          ],
          "name": "stdout"
        }
      ]
    },
    {
      "cell_type": "code",
      "metadata": {
        "colab": {
          "base_uri": "https://localhost:8080/"
        },
        "id": "p4336n0DD938",
        "outputId": "efde6ab3-9a8b-49c1-a09e-5348e0519c8c"
      },
      "source": [
        "model_bilstm.fit(X_pad, Y, validation_split = 0.2, batch_size = 16, epochs = 5)"
      ],
      "execution_count": 27,
      "outputs": [
        {
          "output_type": "stream",
          "text": [
            "Epoch 1/5\n",
            "915/915 [==============================] - 135s 142ms/step - loss: 0.4517 - accuracy: 0.7927 - val_loss: 0.2594 - val_accuracy: 0.8961\n",
            "Epoch 2/5\n",
            "915/915 [==============================] - 129s 141ms/step - loss: 0.1689 - accuracy: 0.9386 - val_loss: 0.1967 - val_accuracy: 0.9286\n",
            "Epoch 3/5\n",
            "915/915 [==============================] - 130s 142ms/step - loss: 0.0532 - accuracy: 0.9828 - val_loss: 0.2171 - val_accuracy: 0.9325\n",
            "Epoch 4/5\n",
            "915/915 [==============================] - 130s 142ms/step - loss: 0.0234 - accuracy: 0.9935 - val_loss: 0.3663 - val_accuracy: 0.9128\n",
            "Epoch 5/5\n",
            "915/915 [==============================] - 129s 141ms/step - loss: 0.0128 - accuracy: 0.9976 - val_loss: 0.2757 - val_accuracy: 0.9155\n"
          ],
          "name": "stdout"
        },
        {
          "output_type": "execute_result",
          "data": {
            "text/plain": [
              "<tensorflow.python.keras.callbacks.History at 0x7f4c63c29fd0>"
            ]
          },
          "metadata": {
            "tags": []
          },
          "execution_count": 27
        }
      ]
    },
    {
      "cell_type": "code",
      "metadata": {
        "id": "H4pzcvm9LKPb"
      },
      "source": [
        "model_bilstm.save(\"fake_news_detector_model_bilstm.h5\")\r\n",
        "\r\n",
        "with open(\"fake_news_detector_model_bilstm.json\", \"w\") as json_file:\r\n",
        "  model_bilstm_json = model_bilstm.to_json() \r\n",
        "  json_file.write(model_bilstm_json) \r\n",
        "\r\n",
        "# Saving weights of the model to a HDF5 file \r\n",
        "model_bilstm.save_weights(\"fake_news_detector_model_bilstm_weights.h5\")"
      ],
      "execution_count": 28,
      "outputs": []
    },
    {
      "cell_type": "code",
      "metadata": {
        "colab": {
          "base_uri": "https://localhost:8080/"
        },
        "id": "KKyC4Yf-MAXV",
        "outputId": "8fd79256-6092-416b-bf57-380a7d6ffdad"
      },
      "source": [
        "# Without dropout\r\n",
        "# model.fit(X_pad, Y, validation_split = 0.2, batch_size = 16, epochs = 10)"
      ],
      "execution_count": null,
      "outputs": [
        {
          "output_type": "stream",
          "text": [
            "Epoch 1/10\n",
            "915/915 [==============================] - 105s 106ms/step - loss: 0.4300 - accuracy: 0.7918 - val_loss: 0.2556 - val_accuracy: 0.8882\n",
            "Epoch 2/10\n",
            "915/915 [==============================] - 96s 105ms/step - loss: 0.1795 - accuracy: 0.9302 - val_loss: 0.1956 - val_accuracy: 0.9229\n",
            "Epoch 3/10\n",
            "915/915 [==============================] - 95s 104ms/step - loss: 0.0595 - accuracy: 0.9800 - val_loss: 0.1967 - val_accuracy: 0.9289\n",
            "Epoch 4/10\n",
            "915/915 [==============================] - 95s 103ms/step - loss: 0.0202 - accuracy: 0.9943 - val_loss: 0.2472 - val_accuracy: 0.9286\n",
            "Epoch 5/10\n",
            "915/915 [==============================] - 95s 103ms/step - loss: 0.0261 - accuracy: 0.9908 - val_loss: 0.3245 - val_accuracy: 0.9054\n",
            "Epoch 6/10\n",
            "915/915 [==============================] - 95s 104ms/step - loss: 0.0759 - accuracy: 0.9777 - val_loss: 0.2608 - val_accuracy: 0.9212\n",
            "Epoch 7/10\n",
            "915/915 [==============================] - 95s 104ms/step - loss: 0.0282 - accuracy: 0.9919 - val_loss: 0.3370 - val_accuracy: 0.8802\n",
            "Epoch 8/10\n",
            "915/915 [==============================] - 95s 104ms/step - loss: 0.0084 - accuracy: 0.9977 - val_loss: 0.2758 - val_accuracy: 0.9297\n",
            "Epoch 9/10\n",
            "915/915 [==============================] - 95s 104ms/step - loss: 0.0046 - accuracy: 0.9991 - val_loss: 0.2721 - val_accuracy: 0.9352\n",
            "Epoch 10/10\n",
            "915/915 [==============================] - 94s 103ms/step - loss: 0.0226 - accuracy: 0.9929 - val_loss: 0.3178 - val_accuracy: 0.9193\n"
          ],
          "name": "stdout"
        },
        {
          "output_type": "execute_result",
          "data": {
            "text/plain": [
              "<tensorflow.python.keras.callbacks.History at 0x7f483ac11c88>"
            ]
          },
          "metadata": {
            "tags": []
          },
          "execution_count": 17
        }
      ]
    }
  ]
}